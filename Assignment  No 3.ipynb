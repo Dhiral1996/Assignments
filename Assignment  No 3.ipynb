{
 "cells": [
  {
   "cell_type": "raw",
   "id": "6bf9c226",
   "metadata": {},
   "source": [
    "1. Why are functions advantageous to have in your programs?"
   ]
  },
  {
   "cell_type": "raw",
   "id": "e82f8e7b",
   "metadata": {},
   "source": [
    "Functions reduces the need for duplicate code. This makes programs shorter, easier to read, and easier to update."
   ]
  },
  {
   "cell_type": "code",
   "execution_count": null,
   "id": "04adf4c5",
   "metadata": {},
   "outputs": [],
   "source": []
  },
  {
   "cell_type": "raw",
   "id": "b810854e",
   "metadata": {},
   "source": [
    "2. When does the code in a function run: when it's specified or when it's called?"
   ]
  },
  {
   "cell_type": "raw",
   "id": "d517b9ca",
   "metadata": {},
   "source": [
    "The code in a function executes when the function is called, not when the function is defined."
   ]
  },
  {
   "cell_type": "code",
   "execution_count": null,
   "id": "712afbc5",
   "metadata": {},
   "outputs": [],
   "source": []
  },
  {
   "cell_type": "raw",
   "id": "6430dc70",
   "metadata": {},
   "source": [
    "3. What statement creates a function?"
   ]
  },
  {
   "cell_type": "raw",
   "id": "439ee0cb",
   "metadata": {},
   "source": [
    "The def statement defines and creates a function."
   ]
  },
  {
   "cell_type": "code",
   "execution_count": null,
   "id": "23a62f25",
   "metadata": {},
   "outputs": [],
   "source": []
  },
  {
   "cell_type": "raw",
   "id": "de9bfef2",
   "metadata": {},
   "source": [
    "4. What is the difference between a function and a function call?"
   ]
  },
  {
   "cell_type": "raw",
   "id": "eaf25308",
   "metadata": {},
   "source": [
    "A function is a block of code that does a particular operation and returns a result. It usually accepts inputs as parameters and returns a result.A function consists of the def statement and the code in its def clause.\n",
    "A function call is what moves the program execution into the function, and the function call evaluates to the function’s return value."
   ]
  },
  {
   "cell_type": "raw",
   "id": "0ee79bf3",
   "metadata": {},
   "source": []
  },
  {
   "cell_type": "raw",
   "id": "2a90b8d7",
   "metadata": {},
   "source": [
    "5. How many global scopes are there in a Python program? How many local scopes?"
   ]
  },
  {
   "cell_type": "raw",
   "id": "3c9f9180",
   "metadata": {},
   "source": [
    "One global scope and a local scope is created whenever a function is called.\n",
    "The global scope is created once the program starts and gets destroyed with the termination of the python program.\n",
    "The local scope in a python program is defined for a block of code such as function. Each function in a python program has its own local scope in which all its variables  and object names are defined. \n"
   ]
  },
  {
   "cell_type": "code",
   "execution_count": null,
   "id": "74ab4db4",
   "metadata": {},
   "outputs": [],
   "source": []
  },
  {
   "cell_type": "raw",
   "id": "1797a05f",
   "metadata": {},
   "source": [
    "6. What happens to variables in a local scope when the function call returns?"
   ]
  },
  {
   "cell_type": "raw",
   "id": "90e640dd",
   "metadata": {},
   "source": [
    "When a function call returns, the local scope is destroyed, and all the variables in it are forgotten."
   ]
  },
  {
   "cell_type": "code",
   "execution_count": null,
   "id": "b254d2ac",
   "metadata": {},
   "outputs": [],
   "source": []
  },
  {
   "cell_type": "raw",
   "id": "dda92f77",
   "metadata": {},
   "source": [
    "7. What is the concept of a return value? Is it possible to have a return value in an expression?"
   ]
  },
  {
   "cell_type": "raw",
   "id": "8ac062f4",
   "metadata": {},
   "source": [
    "The specific value returned from a function is called the return value. Like any value, a return value can be used as part of an expression."
   ]
  },
  {
   "cell_type": "code",
   "execution_count": null,
   "id": "c2d34e4a",
   "metadata": {},
   "outputs": [],
   "source": []
  },
  {
   "cell_type": "raw",
   "id": "1f79463c",
   "metadata": {},
   "source": [
    "8. If a function does not have a return statement, what is the return value of a call to that function?"
   ]
  },
  {
   "cell_type": "raw",
   "id": "05a29e14",
   "metadata": {},
   "source": [
    "If there is no return statement for a function, its return value is None."
   ]
  },
  {
   "cell_type": "code",
   "execution_count": null,
   "id": "338fa8b0",
   "metadata": {},
   "outputs": [],
   "source": []
  },
  {
   "cell_type": "raw",
   "id": "9b647ed0",
   "metadata": {},
   "source": [
    "9. How do you make a function variable refer to the global variable?"
   ]
  },
  {
   "cell_type": "raw",
   "id": "3b1d69b3",
   "metadata": {},
   "source": [
    "A global statement will force a variable in a function to refer to the global variable. Hence using global statement we can make function variable refer to global variable."
   ]
  },
  {
   "cell_type": "code",
   "execution_count": null,
   "id": "4686735f",
   "metadata": {},
   "outputs": [],
   "source": []
  },
  {
   "cell_type": "raw",
   "id": "bd16778d",
   "metadata": {},
   "source": [
    "10. What is the data type of None?"
   ]
  },
  {
   "cell_type": "raw",
   "id": "36b54143",
   "metadata": {},
   "source": [
    "The data type of None is NoneType."
   ]
  },
  {
   "cell_type": "code",
   "execution_count": null,
   "id": "a7d797b4",
   "metadata": {},
   "outputs": [],
   "source": []
  },
  {
   "cell_type": "raw",
   "id": "088d3f5d",
   "metadata": {},
   "source": [
    "11. What does the sentence import areallyourpetsnamederic do?"
   ]
  },
  {
   "cell_type": "raw",
   "id": "974e2e63",
   "metadata": {},
   "source": [
    "This import statement imports a module named areallyourpetsnamederic."
   ]
  },
  {
   "cell_type": "code",
   "execution_count": null,
   "id": "738fd983",
   "metadata": {},
   "outputs": [],
   "source": []
  },
  {
   "cell_type": "raw",
   "id": "342d7833",
   "metadata": {},
   "source": [
    "12. If you had a bacon() feature in a spam module, what would you call it after importing spam?"
   ]
  },
  {
   "cell_type": "raw",
   "id": "43d19f9c",
   "metadata": {},
   "source": [
    "This function can be called with spam.bacon()."
   ]
  },
  {
   "cell_type": "code",
   "execution_count": null,
   "id": "8996b6af",
   "metadata": {},
   "outputs": [],
   "source": []
  },
  {
   "cell_type": "raw",
   "id": "d54c9774",
   "metadata": {},
   "source": [
    "13. What can you do to save a programme from crashing if it encounters an error?"
   ]
  },
  {
   "cell_type": "raw",
   "id": "45e171e8",
   "metadata": {},
   "source": [
    "Place the line of code that might cause an error in a try and except clause "
   ]
  },
  {
   "cell_type": "code",
   "execution_count": null,
   "id": "9f392837",
   "metadata": {},
   "outputs": [],
   "source": []
  },
  {
   "cell_type": "raw",
   "id": "8a11d0eb",
   "metadata": {},
   "source": [
    "14. What is the purpose of the try clause? What is the purpose of the except clause?"
   ]
  },
  {
   "cell_type": "raw",
   "id": "2b89c8e5",
   "metadata": {},
   "source": [
    "The code that could potentially cause an error goes in the try clause.\n",
    "\n",
    "The code that executes if an error happens goes in the except clause.\n",
    "\n",
    "First, try clause is executed it means the code between try and except clause. If there is no exception, then only try clause will run, except clause is finished. If any exception occured, try clause will be skipped and except clause will run."
   ]
  }
 ],
 "metadata": {
  "kernelspec": {
   "display_name": "Python 3 (ipykernel)",
   "language": "python",
   "name": "python3"
  },
  "language_info": {
   "codemirror_mode": {
    "name": "ipython",
    "version": 3
   },
   "file_extension": ".py",
   "mimetype": "text/x-python",
   "name": "python",
   "nbconvert_exporter": "python",
   "pygments_lexer": "ipython3",
   "version": "3.9.7"
  }
 },
 "nbformat": 4,
 "nbformat_minor": 5
}

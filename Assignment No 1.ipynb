{
 "cells": [
  {
   "cell_type": "markdown",
   "id": "059ba6ee",
   "metadata": {},
   "source": [
    "1. In the below elements which of them are values or an expression? eg:- values can be\n",
    "integer or string and expressions will be mathematical operators."
   ]
  },
  {
   "cell_type": "markdown",
   "id": "e136c041",
   "metadata": {},
   "source": [
    "Answer : Values = 'hello' , -87.8 , 6\n",
    "\n",
    "         Expression = * , - , / , +"
   ]
  },
  {
   "cell_type": "code",
   "execution_count": null,
   "id": "383eff64",
   "metadata": {},
   "outputs": [],
   "source": []
  },
  {
   "cell_type": "markdown",
   "id": "e85e847f",
   "metadata": {},
   "source": [
    "2. What is the difference between string and variable?"
   ]
  },
  {
   "cell_type": "markdown",
   "id": "8f0dccad",
   "metadata": {},
   "source": [
    "Answer : Variable : A variable is basically the name of the location in the primary memory of your computer. This can be chosen by you. A variable can store everything from strings to numbers.\n",
    "\n",
    "String : Strings are an ordered collection or sequence of characters. They are used to store information in the form of text , once a String is assigned a value, its value cannot be modified and the values inside the quotes assigned to a string.\n",
    "\n",
    "Difference between Variable and String\n",
    "1.A variable can hold a string, but a string can't hold a variable\n",
    "2.We cannot use space or “” & ‘’ while specifying the Variable and in string we have to use “” & ‘’ also can use space in between colons."
   ]
  },
  {
   "cell_type": "code",
   "execution_count": null,
   "id": "3654ae44",
   "metadata": {},
   "outputs": [],
   "source": []
  },
  {
   "cell_type": "markdown",
   "id": "2cd61423",
   "metadata": {},
   "source": [
    "3. Describe three different data types."
   ]
  },
  {
   "cell_type": "markdown",
   "id": "524b2bb6",
   "metadata": {},
   "source": [
    "Answer : 1. Numeric:  Numeric data type represent the data which has numeric value. Numeric value can be integer, floating number or even complex numbers. These values are defined as int, float and complex class in Python.\n",
    "Eg:Numeric = 45, 67.8 , 4+5j\n",
    "\n",
    "\n",
    "2. List :  List is a collection of things, enclosed in [ ] and separated by commas and A single list may contain DataTypes like Integers, Strings, as well as Objects. Lists are mutable and hence they can be altered even after their creation.\n",
    "Eg : list = ['abc', 786 , 2.23, 'ineuron', 70.2 ]\n",
    "\n",
    "\n",
    "3. Dictionary:  Dictionaries stores data in key-value pairs. The key values are usually strings, and the value can be of any data type. The key-value pairs are enclosed with curly braces ({}). Each key-value pair is separated from the other using a colon (:) and their values can be changed after creating it.\n",
    "Eg: a={\"name\":\"Dhiral\",\"address\":\"Mumbai\",\"salary\":50000}"
   ]
  },
  {
   "cell_type": "code",
   "execution_count": null,
   "id": "2c1fb38b",
   "metadata": {},
   "outputs": [],
   "source": []
  },
  {
   "cell_type": "markdown",
   "id": "a13b4565",
   "metadata": {},
   "source": [
    "4. What is an expression made up of? What do all expressions do?"
   ]
  },
  {
   "cell_type": "markdown",
   "id": "e4eb8dbb",
   "metadata": {},
   "source": [
    "Answer : An expression is a sentence with a minimum of two numbers or variables and at least one math operation. \n",
    "\n",
    "Expression are used to calculate the values or represent the result on the screen.\n",
    "\n",
    "E.g:d = 3 + 9 \n",
    "     "
   ]
  },
  {
   "cell_type": "code",
   "execution_count": null,
   "id": "dff8c7ed",
   "metadata": {},
   "outputs": [],
   "source": []
  },
  {
   "cell_type": "markdown",
   "id": "8ec18611",
   "metadata": {},
   "source": [
    "5. This assignment statements, like spam = 10. What is the difference between an\n",
    "expression and a statement?"
   ]
  },
  {
   "cell_type": "markdown",
   "id": "1b070fd7",
   "metadata": {},
   "source": [
    "Answer : An expression is a sentence with a minimum of two numbers or variables and at least one math operation and statement is an instruction that a Python interpreter can execute for example print command"
   ]
  },
  {
   "cell_type": "code",
   "execution_count": null,
   "id": "67bba092",
   "metadata": {},
   "outputs": [],
   "source": []
  },
  {
   "cell_type": "markdown",
   "id": "76b1fbf1",
   "metadata": {},
   "source": [
    "6. After running the following code, what does the variable bacon contain?\n",
    "bacon = 22\n",
    "bacon + 1"
   ]
  },
  {
   "cell_type": "code",
   "execution_count": 1,
   "id": "d5ca5fc2",
   "metadata": {},
   "outputs": [],
   "source": [
    "##Answer\n",
    "bacon = 22"
   ]
  },
  {
   "cell_type": "code",
   "execution_count": 2,
   "id": "1ca881b3",
   "metadata": {},
   "outputs": [
    {
     "data": {
      "text/plain": [
       "23"
      ]
     },
     "execution_count": 2,
     "metadata": {},
     "output_type": "execute_result"
    }
   ],
   "source": [
    "bacon + 1 "
   ]
  },
  {
   "cell_type": "code",
   "execution_count": null,
   "id": "fa3e5af0",
   "metadata": {},
   "outputs": [],
   "source": []
  },
  {
   "cell_type": "markdown",
   "id": "6b2b53ee",
   "metadata": {},
   "source": [
    "7. What should the values of the following two terms be?\n",
    "'spam' + 'spamspam'\n",
    "\n",
    "'spam' * 3"
   ]
  },
  {
   "cell_type": "code",
   "execution_count": 3,
   "id": "b6c7fb6f",
   "metadata": {},
   "outputs": [
    {
     "data": {
      "text/plain": [
       "'spamspamspam'"
      ]
     },
     "execution_count": 3,
     "metadata": {},
     "output_type": "execute_result"
    }
   ],
   "source": [
    "##Answer values will be same \n",
    "\n",
    "'spam' + 'spamspam'"
   ]
  },
  {
   "cell_type": "code",
   "execution_count": 4,
   "id": "799aa205",
   "metadata": {},
   "outputs": [
    {
     "data": {
      "text/plain": [
       "'spamspamspam'"
      ]
     },
     "execution_count": 4,
     "metadata": {},
     "output_type": "execute_result"
    }
   ],
   "source": [
    "'spam' * 3"
   ]
  },
  {
   "cell_type": "code",
   "execution_count": null,
   "id": "b869ffe8",
   "metadata": {},
   "outputs": [],
   "source": []
  },
  {
   "cell_type": "markdown",
   "id": "694a882b",
   "metadata": {},
   "source": [
    "8. Why is eggs a valid variable name while 100 is invalid?"
   ]
  },
  {
   "cell_type": "markdown",
   "id": "5c4025c4",
   "metadata": {},
   "source": [
    "Answer : Egg is a valid variable name because it is a string and we cant give variable name as integer hence the 100 is invalid. Variable name can start with a alphabet and then along with it we can add integer without giving space Eg - a123 ,this is a valid variable name."
   ]
  },
  {
   "cell_type": "code",
   "execution_count": null,
   "id": "2255bb25",
   "metadata": {},
   "outputs": [],
   "source": []
  },
  {
   "cell_type": "markdown",
   "id": "2dc784ee",
   "metadata": {},
   "source": [
    "9. What three functions can be used to get the integer, floating-point number, or string\n",
    "version of a value?"
   ]
  },
  {
   "cell_type": "markdown",
   "id": "ad1b661e",
   "metadata": {},
   "source": [
    "Answer : Integer - int()\n",
    "\n",
    "  Float  - float()\n",
    "         \n",
    "  String - str()"
   ]
  },
  {
   "cell_type": "code",
   "execution_count": null,
   "id": "ab9a2d28",
   "metadata": {},
   "outputs": [],
   "source": []
  },
  {
   "cell_type": "markdown",
   "id": "3444c84d",
   "metadata": {},
   "source": [
    "10. Why does this expression cause an error? How can you fix it?\n",
    "\n",
    "'I have eaten' + 99 + 'burritos' "
   ]
  },
  {
   "cell_type": "markdown",
   "id": "495c9617",
   "metadata": {},
   "source": [
    "Answer: Here 99 in an integer so it cannot be concatenated with the other string data types so we have to convert 99 into string by adding str(99) then the error will be fixed this process is also known as typecasting."
   ]
  },
  {
   "cell_type": "code",
   "execution_count": null,
   "id": "04ceb734",
   "metadata": {},
   "outputs": [],
   "source": []
  },
  {
   "cell_type": "code",
   "execution_count": null,
   "id": "5f65b1ec",
   "metadata": {},
   "outputs": [],
   "source": []
  }
 ],
 "metadata": {
  "kernelspec": {
   "display_name": "Python 3 (ipykernel)",
   "language": "python",
   "name": "python3"
  },
  "language_info": {
   "codemirror_mode": {
    "name": "ipython",
    "version": 3
   },
   "file_extension": ".py",
   "mimetype": "text/x-python",
   "name": "python",
   "nbconvert_exporter": "python",
   "pygments_lexer": "ipython3",
   "version": "3.9.7"
  }
 },
 "nbformat": 4,
 "nbformat_minor": 5
}
